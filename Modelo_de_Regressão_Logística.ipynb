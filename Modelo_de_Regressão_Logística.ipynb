{
  "nbformat": 4,
  "nbformat_minor": 0,
  "metadata": {
    "colab": {
      "provenance": [],
      "authorship_tag": "ABX9TyMEmr7WMqXj29uX/L1An7am",
      "include_colab_link": true
    },
    "kernelspec": {
      "name": "python3",
      "display_name": "Python 3"
    },
    "language_info": {
      "name": "python"
    }
  },
  "cells": [
    {
      "cell_type": "markdown",
      "metadata": {
        "id": "view-in-github",
        "colab_type": "text"
      },
      "source": [
        "<a href=\"https://colab.research.google.com/github/leandrocarrinho/leandrocarrinho/blob/main/Modelo_de_Regress%C3%A3o_Log%C3%ADstica.ipynb\" target=\"_parent\"><img src=\"https://colab.research.google.com/assets/colab-badge.svg\" alt=\"Open In Colab\"/></a>"
      ]
    },
    {
      "cell_type": "markdown",
      "source": [
        "Unidade: Avaliação de Modelos Preditivos\n",
        "Tema; Técnicas de Reamostragem\n",
        "Autoria: Orlando da Silva Junior"
      ],
      "metadata": {
        "id": "LgC7l6ty2I_s"
      }
    },
    {
      "cell_type": "markdown",
      "source": [],
      "metadata": {
        "id": "bNIqopRC3R1h"
      }
    },
    {
      "cell_type": "code",
      "execution_count": null,
      "metadata": {
        "id": "miskTFuQ1OQp"
      },
      "outputs": [],
      "source": [
        "import numpy as np #computação científica\n",
        "from sklearn import datasets #para trabalhar com banco de dados específico\n",
        "from sklearn.linear_model import LogisticRegression #regressão logístical modelo\n",
        "from sklearn.metrics import accuracy_score #encontrar as acurácias\n",
        "from sklearn.model_selection import train_test_split #entrega a amostragem holdout\n",
        "from sklearn.model_selection import KFold #empregar a amostragem por validção cruzada"
      ]
    },
    {
      "cell_type": "markdown",
      "source": [
        "***Dados Experimentair"
      ],
      "metadata": {
        "id": "RiWXKfZf3VTg"
      }
    },
    {
      "cell_type": "code",
      "source": [
        "#carrega od dados em memoria e separa os dados em entrada(x) e saida (y)\n",
        "wine = datasets.load_wine()\n",
        "x = wine.data\n",
        "y = wine.target"
      ],
      "metadata": {
        "id": "12A4ptxw3U3P"
      },
      "execution_count": null,
      "outputs": []
    },
    {
      "cell_type": "code",
      "source": [
        "print(\"# Linhas: \", x.shape[0])\n",
        "print(\"# Colunas: \", x.shape[1])\n",
        "print(\"# Classes: \", len(np.unique(y)))"
      ],
      "metadata": {
        "colab": {
          "base_uri": "https://localhost:8080/"
        },
        "id": "urCjgX4k3xkT",
        "outputId": "bf488fd9-cae4-4dfe-94ad-5ef98af44937"
      },
      "execution_count": null,
      "outputs": [
        {
          "output_type": "stream",
          "name": "stdout",
          "text": [
            "# Linhas:  178\n",
            "# Colunas:  13\n",
            "# Classes:  3\n"
          ]
        }
      ]
    },
    {
      "cell_type": "markdown",
      "source": [
        "****Amostragem Holdout"
      ],
      "metadata": {
        "id": "jSP8AHDW4e1H"
      }
    },
    {
      "cell_type": "code",
      "source": [
        "# Separa a entrada/saida em subconjuntos de treinamento e teste\n",
        "x_train, x_test, y_train, y_test = train_test_split(x, y, test_size=0.4, random_state=42)\n",
        "#train_test_split(dados de entrada, dados de saida, percentagem referente aos dados de teste, parametro de replicação)"
      ],
      "metadata": {
        "id": "AhCmJKjZ4h3e"
      },
      "execution_count": null,
      "outputs": []
    },
    {
      "cell_type": "code",
      "source": [
        "print(\"Treinamento (60%): \", len(x_train))\n",
        "print(\"Teste (40%): \", len(x_test))"
      ],
      "metadata": {
        "colab": {
          "base_uri": "https://localhost:8080/"
        },
        "id": "UkkAr0ma4_gc",
        "outputId": "ee93f2c7-c609-426a-a91b-f62b77c867ca"
      },
      "execution_count": null,
      "outputs": [
        {
          "output_type": "stream",
          "name": "stdout",
          "text": [
            "Treinamento (60%):  106\n",
            "Teste (40%):  72\n"
          ]
        }
      ]
    },
    {
      "cell_type": "code",
      "source": [
        "# realiza a aprendizagem sobre o subconjunto de treinamento\n",
        "clf = LogisticRegression(solver='liblinear')\n",
        "clf.fit(x_train, y_train)"
      ],
      "metadata": {
        "colab": {
          "base_uri": "https://localhost:8080/",
          "height": 75
        },
        "id": "p5IeCxbj5R5J",
        "outputId": "fcdd0fbc-a1cf-40e4-bad8-280bdc40b0dd"
      },
      "execution_count": null,
      "outputs": [
        {
          "output_type": "execute_result",
          "data": {
            "text/plain": [
              "LogisticRegression(solver='liblinear')"
            ],
            "text/html": [
              "<style>#sk-container-id-1 {color: black;background-color: white;}#sk-container-id-1 pre{padding: 0;}#sk-container-id-1 div.sk-toggleable {background-color: white;}#sk-container-id-1 label.sk-toggleable__label {cursor: pointer;display: block;width: 100%;margin-bottom: 0;padding: 0.3em;box-sizing: border-box;text-align: center;}#sk-container-id-1 label.sk-toggleable__label-arrow:before {content: \"▸\";float: left;margin-right: 0.25em;color: #696969;}#sk-container-id-1 label.sk-toggleable__label-arrow:hover:before {color: black;}#sk-container-id-1 div.sk-estimator:hover label.sk-toggleable__label-arrow:before {color: black;}#sk-container-id-1 div.sk-toggleable__content {max-height: 0;max-width: 0;overflow: hidden;text-align: left;background-color: #f0f8ff;}#sk-container-id-1 div.sk-toggleable__content pre {margin: 0.2em;color: black;border-radius: 0.25em;background-color: #f0f8ff;}#sk-container-id-1 input.sk-toggleable__control:checked~div.sk-toggleable__content {max-height: 200px;max-width: 100%;overflow: auto;}#sk-container-id-1 input.sk-toggleable__control:checked~label.sk-toggleable__label-arrow:before {content: \"▾\";}#sk-container-id-1 div.sk-estimator input.sk-toggleable__control:checked~label.sk-toggleable__label {background-color: #d4ebff;}#sk-container-id-1 div.sk-label input.sk-toggleable__control:checked~label.sk-toggleable__label {background-color: #d4ebff;}#sk-container-id-1 input.sk-hidden--visually {border: 0;clip: rect(1px 1px 1px 1px);clip: rect(1px, 1px, 1px, 1px);height: 1px;margin: -1px;overflow: hidden;padding: 0;position: absolute;width: 1px;}#sk-container-id-1 div.sk-estimator {font-family: monospace;background-color: #f0f8ff;border: 1px dotted black;border-radius: 0.25em;box-sizing: border-box;margin-bottom: 0.5em;}#sk-container-id-1 div.sk-estimator:hover {background-color: #d4ebff;}#sk-container-id-1 div.sk-parallel-item::after {content: \"\";width: 100%;border-bottom: 1px solid gray;flex-grow: 1;}#sk-container-id-1 div.sk-label:hover label.sk-toggleable__label {background-color: #d4ebff;}#sk-container-id-1 div.sk-serial::before {content: \"\";position: absolute;border-left: 1px solid gray;box-sizing: border-box;top: 0;bottom: 0;left: 50%;z-index: 0;}#sk-container-id-1 div.sk-serial {display: flex;flex-direction: column;align-items: center;background-color: white;padding-right: 0.2em;padding-left: 0.2em;position: relative;}#sk-container-id-1 div.sk-item {position: relative;z-index: 1;}#sk-container-id-1 div.sk-parallel {display: flex;align-items: stretch;justify-content: center;background-color: white;position: relative;}#sk-container-id-1 div.sk-item::before, #sk-container-id-1 div.sk-parallel-item::before {content: \"\";position: absolute;border-left: 1px solid gray;box-sizing: border-box;top: 0;bottom: 0;left: 50%;z-index: -1;}#sk-container-id-1 div.sk-parallel-item {display: flex;flex-direction: column;z-index: 1;position: relative;background-color: white;}#sk-container-id-1 div.sk-parallel-item:first-child::after {align-self: flex-end;width: 50%;}#sk-container-id-1 div.sk-parallel-item:last-child::after {align-self: flex-start;width: 50%;}#sk-container-id-1 div.sk-parallel-item:only-child::after {width: 0;}#sk-container-id-1 div.sk-dashed-wrapped {border: 1px dashed gray;margin: 0 0.4em 0.5em 0.4em;box-sizing: border-box;padding-bottom: 0.4em;background-color: white;}#sk-container-id-1 div.sk-label label {font-family: monospace;font-weight: bold;display: inline-block;line-height: 1.2em;}#sk-container-id-1 div.sk-label-container {text-align: center;}#sk-container-id-1 div.sk-container {/* jupyter's `normalize.less` sets `[hidden] { display: none; }` but bootstrap.min.css set `[hidden] { display: none !important; }` so we also need the `!important` here to be able to override the default hidden behavior on the sphinx rendered scikit-learn.org. See: https://github.com/scikit-learn/scikit-learn/issues/21755 */display: inline-block !important;position: relative;}#sk-container-id-1 div.sk-text-repr-fallback {display: none;}</style><div id=\"sk-container-id-1\" class=\"sk-top-container\"><div class=\"sk-text-repr-fallback\"><pre>LogisticRegression(solver=&#x27;liblinear&#x27;)</pre><b>In a Jupyter environment, please rerun this cell to show the HTML representation or trust the notebook. <br />On GitHub, the HTML representation is unable to render, please try loading this page with nbviewer.org.</b></div><div class=\"sk-container\" hidden><div class=\"sk-item\"><div class=\"sk-estimator sk-toggleable\"><input class=\"sk-toggleable__control sk-hidden--visually\" id=\"sk-estimator-id-1\" type=\"checkbox\" checked><label for=\"sk-estimator-id-1\" class=\"sk-toggleable__label sk-toggleable__label-arrow\">LogisticRegression</label><div class=\"sk-toggleable__content\"><pre>LogisticRegression(solver=&#x27;liblinear&#x27;)</pre></div></div></div></div></div>"
            ]
          },
          "metadata": {},
          "execution_count": 7
        }
      ]
    },
    {
      "cell_type": "code",
      "source": [
        "#classifica os dados não vistos no subconjunto de teste\n",
        "y_pred = clf.predict(x_test)"
      ],
      "metadata": {
        "id": "NgQi37dx5o4T"
      },
      "execution_count": null,
      "outputs": []
    },
    {
      "cell_type": "code",
      "source": [
        "#compara resultado reais e preditos\n",
        "print(\"Acurácia %.2f\" % accuracy_score(y_test, y_pred))"
      ],
      "metadata": {
        "colab": {
          "base_uri": "https://localhost:8080/"
        },
        "id": "NZNqIVLw5zRG",
        "outputId": "b770e757-1526-4f99-afa7-52581aba6115"
      },
      "execution_count": null,
      "outputs": [
        {
          "output_type": "stream",
          "name": "stdout",
          "text": [
            "Acurácia 0.93\n"
          ]
        }
      ]
    },
    {
      "cell_type": "markdown",
      "source": [
        "***** Amostragem por validação cruzada"
      ],
      "metadata": {
        "id": "_zJKJxXO6cHf"
      }
    },
    {
      "cell_type": "code",
      "source": [
        "#Vetor para acumular cara resultado da acurácia\n",
        "acc = []\n",
        "\n",
        "#realiza a aprendizagem por meio da validação cruzada\n",
        "kf = KFold(n_splits=5)\n",
        "\n",
        "for train_index, test_index in kf.split(x):\n",
        "  #Constroi os subconjuntos de treinamento/teste para cada partição\n",
        "  x_train, y_train = x[train_index], y[train_index]\n",
        "  x_test, y_test = x[test_index], y[test_index]\n",
        "\n",
        "  #realiza a aprendizagem sobre o subconjunto de treniamento\n",
        "  #modelo fraco\n",
        "  #clf = DummyClassifier(strategy=\"prior\", random_state=42)\n",
        "  clf = LogisticRegression(solver='liblinear')\n",
        "  clf.fit(x_train, y_train)\n",
        "\n",
        "  #classifica os dados não vistos no subconjunto de teste\n",
        "  y_pred = clf.predict(x_test)\n",
        "\n",
        "  #calcula e armazena a acurácia do modelo atual\n",
        "  acc.append(accuracy_score(y_test, y_pred))\n",
        "\n"
      ],
      "metadata": {
        "id": "pSLqWCVn6hU4"
      },
      "execution_count": null,
      "outputs": []
    },
    {
      "cell_type": "code",
      "source": [
        "print(\"Acurácia: %.2f +- %.2f\" % (np.mean(acc), np.std(acc)))"
      ],
      "metadata": {
        "colab": {
          "base_uri": "https://localhost:8080/"
        },
        "id": "_l6y4sVb4-5e",
        "outputId": "d0378d90-99b3-4c80-c530-534fb1fa024d"
      },
      "execution_count": null,
      "outputs": [
        {
          "output_type": "stream",
          "name": "stdout",
          "text": [
            "Acurácia: 0.93 +- 0.04\n"
          ]
        }
      ]
    }
  ]
}