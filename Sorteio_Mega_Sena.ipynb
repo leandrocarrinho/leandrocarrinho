{
  "nbformat": 4,
  "nbformat_minor": 0,
  "metadata": {
    "colab": {
      "provenance": [],
      "authorship_tag": "ABX9TyMldAmtgTaNIH4MSspK9wmy",
      "include_colab_link": true
    },
    "kernelspec": {
      "name": "python3",
      "display_name": "Python 3"
    },
    "language_info": {
      "name": "python"
    }
  },
  "cells": [
    {
      "cell_type": "markdown",
      "metadata": {
        "id": "view-in-github",
        "colab_type": "text"
      },
      "source": [
        "<a href=\"https://colab.research.google.com/github/leandrocarrinho/leandrocarrinho/blob/main/Sorteio_Mega_Sena.ipynb\" target=\"_parent\"><img src=\"https://colab.research.google.com/assets/colab-badge.svg\" alt=\"Open In Colab\"/></a>"
      ]
    },
    {
      "cell_type": "code",
      "execution_count": 7,
      "metadata": {
        "colab": {
          "base_uri": "https://localhost:8080/"
        },
        "id": "XZvCrjGDgV5C",
        "outputId": "97ecb1ad-f21d-4ca8-b35b-494105cf7eb0"
      },
      "outputs": [
        {
          "output_type": "stream",
          "name": "stdout",
          "text": [
            "[21, 53, 17, 2, 48, 30]\n"
          ]
        }
      ],
      "source": [
        "from random import randint\n",
        "\n",
        "sorteios = []\n",
        "contador = 0\n",
        "while contador < 6:\n",
        "    numero = randint(1, 60)\n",
        "    if not numero in sorteios:\n",
        "      sorteios.append(numero)\n",
        "      contador = contador + 1\n",
        "print(sorteios)\n"
      ]
    }
  ]
}